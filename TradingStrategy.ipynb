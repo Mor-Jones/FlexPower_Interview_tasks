{
 "cells": [
  {
   "cell_type": "markdown",
   "metadata": {},
   "source": [
    "# Trading Strategy\n",
    "\n",
    "## My assumptions:\n",
    "\n",
    "(1) 100MW is a small volume compared to hourly power flows and therefore my trading activity doesn't affect prices\n",
    "\n",
    "(2) My strategies will perform the same (relative rate of return, risk etc) regardless of if applied to 1 MW or 100 MW. \n",
    "\n",
    "## My approach:\n",
    "\n",
    "Two sides to my approach -- what does the data show and what does theory tell me?\n",
    "\n",
    "*Theory* tells me the DA price will differ from the ID where the day ahead forecast differs from the intraday. The forecast will differ when:\n",
    "- uncertainty in the renewables production forecast (weather is a chaotic system, weather models are not perfect)\n",
    "- the demand forecast changes unexpectedly because this forecast was flawed\n",
    "- an event causes supply to change in a way unpredictable by the forecast (eg line outage)\n",
    "\n",
    "Production forecast uncertainty will be highest when either renewable production is higher (as renewables are more uncertain than dispatchable power) or when there's higher uncertainty in the renewables forecast specifically (eg at the start or end of a weather front, cloudy weather...). I don't know anything about the forecast models used here -- therefore I can only make general inferences about where these uncertainties lie.\n",
    "\n",
    "Similarly, I can't make many inferences about the demand modelling and where it may change suddenly. Perhaps I could model back from where the price varied dramatically between DA and ID without a commensurate difference in the DA and ID renewables forecast; this will be tricky. However, the biggest impact on prices of a demand forecasting problem is likely to be when demand is high. This could indicate going long on days when demand is higher; it depends whether demand forecasts tend to err high or low. I'm not going to look at it in this case, as I judge the uncertainty in the renewables forecast to be the more likely and therefore fruitful.\n",
    "\n",
    "I can't predict an event like an unplanned failure from past data. I can however target times at which prices are particularly vulnerable to such events. Doing this is likely to be involved and I'm going to rule it out of scope.\n",
    "\n",
    "If I were to use a theory --> strategy approach, I would look for times and circumstances in which the inherent uncertainty in the wind and solar forecast is higher, or when renewables are high and therefore a greater share of the generation stack is subject to that uncertainty.\n",
    "\n",
    "My approach to do this with the information provided would be:\n",
    "...\n",
    "\n",
    "*Data* can tell me empirically what strategies work and don't work... in 2021. To use these strategies, I need to understand whether the strategies designed from data owe their performance to the strategy itself, or the circumstances of 2021. I would use statistics to assess this, as I have below.\n",
    "\n",
    "On consideration of the scope, time and data available, I've decided to start with the data led approach here.\n",
    "\n",
    "--\n",
    "Additionally, if I had the time and the information to do so, I would prefer to look at the carbon impact of trading strategies and how I can use them to push gas out of the market."
   ]
  },
  {
   "cell_type": "markdown",
   "metadata": {},
   "source": [
    "## Data Analysis"
   ]
  },
  {
   "cell_type": "markdown",
   "metadata": {},
   "source": [
    "For the year as a whole, what is the difference between DA and ID (hourly) prices?"
   ]
  },
  {
   "cell_type": "markdown",
   "metadata": {
    "vscode": {
     "languageId": "plaintext"
    }
   },
   "source": [
    "#plot of id, da and diff\n",
    "#add up total difference (modulus and without) between da and id for all hours\n",
    "#given this, is it better to go long, short or a mixture? which is more profitable?\n",
    "--> these give the bounds of what I could possibly make"
   ]
  },
  {
   "cell_type": "markdown",
   "metadata": {},
   "source": [
    "Are there any patterns within a day?"
   ]
  },
  {
   "cell_type": "markdown",
   "metadata": {},
   "source": [
    "A week?"
   ]
  },
  {
   "cell_type": "markdown",
   "metadata": {},
   "source": [
    "A season?"
   ]
  },
  {
   "cell_type": "markdown",
   "metadata": {},
   "source": [
    "A year?"
   ]
  },
  {
   "cell_type": "markdown",
   "metadata": {},
   "source": [
    "What about with solar production?"
   ]
  },
  {
   "cell_type": "markdown",
   "metadata": {},
   "source": [
    "With wind?"
   ]
  },
  {
   "cell_type": "markdown",
   "metadata": {},
   "source": [
    "With both (total renewables)?"
   ]
  },
  {
   "cell_type": "markdown",
   "metadata": {},
   "source": [
    "If I make a statement calling out a pattern like 'on saturdays the da forecast will be too high', how often am I right?"
   ]
  },
  {
   "cell_type": "markdown",
   "metadata": {},
   "source": [
    "Things I could make statements about:\n",
    "- time of day\n",
    "- day of week\n",
    "- month\n",
    "- season\n",
    "- solar\n",
    "- wind\n",
    "- solar + wind\n",
    "\n",
    "scatter / distribution plot of these"
   ]
  },
  {
   "cell_type": "markdown",
   "metadata": {},
   "source": [
    "And how valuable is being right?\n",
    "\n",
    "If I turn a pattern into a decision statement (circumstance -> high or low forecast -> long or short position) how much of the difference potential gathers on each side?\n",
    "\n",
    "What percentage of the time (and what percentage of the value) is that statement right? [if isn't right most of the time but is right most of the value => this was a fluke? assess risks more carefully]\n",
    "\n",
    "Is my statement valuable in a narrow section of the range in which it's right? => need to amend statement\n",
    "\n",
    "Or is it right only when other circumstances are also true? Like solar is > X but wind is < Y?"
   ]
  },
  {
   "cell_type": "markdown",
   "metadata": {},
   "source": [
    "assess risk; are all trades vulnerable to the same set of circumstances? eg dunkelflaute? or if the achilles heel of one shows up can we hop on the other foot?"
   ]
  },
  {
   "cell_type": "markdown",
   "metadata": {},
   "source": [
    "In summary, my process for building a strategy would be:\n",
    "- identify patterns in the data on price difference between DA and ID\n",
    "- make statements which turn these patterns into positions\n",
    "- assess the value of these positions\n",
    "- assess the risk of these positions\n",
    "- combine several statements/trades into a strategy which, ideally, balances risk"
   ]
  }
 ],
 "metadata": {
  "language_info": {
   "name": "python"
  }
 },
 "nbformat": 4,
 "nbformat_minor": 2
}
