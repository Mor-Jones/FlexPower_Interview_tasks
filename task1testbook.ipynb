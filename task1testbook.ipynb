{
 "cells": [
  {
   "cell_type": "markdown",
   "metadata": {},
   "source": [
    "setup: open trades database and table epex_12_20_12_13"
   ]
  },
  {
   "cell_type": "markdown",
   "metadata": {},
   "source": [
    "# FlexPower Interview tasks -- Testbook"
   ]
  },
  {
   "cell_type": "markdown",
   "metadata": {},
   "source": [
    "## Task 1 Minimal reporting tool"
   ]
  },
  {
   "cell_type": "markdown",
   "metadata": {},
   "source": [
    "### set up and data import"
   ]
  },
  {
   "cell_type": "code",
   "execution_count": 68,
   "metadata": {},
   "outputs": [],
   "source": [
    "#PYTHON 3.9.6"
   ]
  },
  {
   "cell_type": "code",
   "execution_count": 16,
   "metadata": {},
   "outputs": [],
   "source": [
    "import sqlite3\n",
    "import pandas as pd"
   ]
  },
  {
   "cell_type": "code",
   "execution_count": null,
   "metadata": {},
   "outputs": [
    {
     "name": "stdout",
     "output_type": "stream",
     "text": [
      "        id  quantity  price  side    strategy\n",
      "0  trade_1         5   20.0   buy  strategy_1\n",
      "1  trade_2        17   10.0  sell  strategy_1\n",
      "2  trade_3        15    8.0   buy  strategy_1\n",
      "3  trade_4        13   35.0  sell  strategy_2\n",
      "4  trade_5        23   11.0  sell  strategy_2\n",
      "30 (6, 5)\n"
     ]
    }
   ],
   "source": [
    "con = sqlite3.connect(\"trades.sqlite\")\n",
    "trades = pd.read_sql_query(\"SELECT * from epex_12_20_12_13\", con)\n",
    "#TODO: check this is reading all of them in\n",
    "print(trades.head())\n",
    "con.close()\n",
    "print(trades.size, trades.shape)"
   ]
  },
  {
   "cell_type": "code",
   "execution_count": 33,
   "metadata": {},
   "outputs": [
    {
     "name": "stdout",
     "output_type": "stream",
     "text": [
      "        id  quantity  price  side    strategy\n",
      "0  trade_1         5   20.0   buy  strategy_1\n",
      "1  trade_2        17   10.0  sell  strategy_1\n",
      "2  trade_3        15    8.0   buy  strategy_1\n",
      "3  trade_4        13   35.0  sell  strategy_2\n",
      "4  trade_5        23   11.0  sell  strategy_2\n",
      "5  trade_6         8   20.0   buy  strategy_2\n"
     ]
    }
   ],
   "source": [
    "print(trades)"
   ]
  },
  {
   "cell_type": "code",
   "execution_count": 57,
   "metadata": {},
   "outputs": [],
   "source": [
    "#TODO: quick data cleaner making sure evth is in the right type"
   ]
  },
  {
   "cell_type": "markdown",
   "metadata": {},
   "source": [
    "### Task 1.1\n",
    "Write a function that computes the total buy volume for flex power, another that computes the total sell volume."
   ]
  },
  {
   "cell_type": "code",
   "execution_count": 22,
   "metadata": {},
   "outputs": [],
   "source": [
    "\n",
    "def compute_total_buy_volume(tradetable) -> float:\n",
    "    total_buy = tradetable[tradetable.side == 'buy'].quantity.sum()\n",
    "    return total_buy\n",
    "\n",
    "def compute_total_sell_volume(tradetable) -> float:\n",
    "    total_sell = tradetable[tradetable.side == 'sell'].quantity.sum()\n",
    "    return total_sell"
   ]
  },
  {
   "cell_type": "code",
   "execution_count": 23,
   "metadata": {},
   "outputs": [
    {
     "data": {
      "text/plain": [
       "np.int64(53)"
      ]
     },
     "execution_count": 23,
     "metadata": {},
     "output_type": "execute_result"
    }
   ],
   "source": [
    "compute_total_buy_volume(trades)\n",
    "compute_total_sell_volume(trades)"
   ]
  },
  {
   "cell_type": "code",
   "execution_count": null,
   "metadata": {},
   "outputs": [],
   "source": [
    "#TODO: change to dataframe.filter for efficiency (in case tested on a bigger database)"
   ]
  },
  {
   "cell_type": "markdown",
   "metadata": {},
   "source": [
    "### Task 1.2\n",
    "PnL calculation for each strategy; defn sum of incomes, with selling +ve and buying -ve"
   ]
  },
  {
   "cell_type": "code",
   "execution_count": 24,
   "metadata": {},
   "outputs": [
    {
     "name": "stdout",
     "output_type": "stream",
     "text": [
      "['strategy_1' 'strategy_2']\n"
     ]
    }
   ],
   "source": [
    "print(trades.strategy.unique())"
   ]
  },
  {
   "cell_type": "code",
   "execution_count": 65,
   "metadata": {},
   "outputs": [],
   "source": [
    "def compute_pnl(strategy_id: str, tradetable) -> float:\n",
    "    if strategy_id in tradetable.strategy.unique():\n",
    "        this_strategy_trades_sell = tradetable[(tradetable.strategy == strategy_id) & (tradetable.side == 'sell')]\n",
    "        this_strategy_trades_buy = tradetable[(tradetable.strategy == strategy_id) & (tradetable.side == 'buy')]\n",
    "        sales = this_strategy_trades_sell.quantity * this_strategy_trades_sell.price\n",
    "        sales_value = sales.sum()\n",
    "        buys = this_strategy_trades_buy.quantity * this_strategy_trades_buy.price\n",
    "        buys_value = buys.sum()\n",
    "        income = sales_value - buys_value\n",
    "    else:\n",
    "        income = 0\n",
    "    return income\n",
    "#make this smarter anad use the buy sell volume funcs from above?\n",
    "#use .dot explicityly rather than *? check know behaviour of this?\n",
    "#change to not do memory allocation (change to a lambda function? rather than data slicing?"
   ]
  },
  {
   "cell_type": "code",
   "execution_count": 67,
   "metadata": {},
   "outputs": [
    {
     "data": {
      "text/plain": [
       "np.float64(548.0)"
      ]
     },
     "execution_count": 67,
     "metadata": {},
     "output_type": "execute_result"
    }
   ],
   "source": [
    "compute_pnl('strategy_2',trades)"
   ]
  },
  {
   "cell_type": "markdown",
   "metadata": {},
   "source": [
    "### Task 1.3\n",
    "expose compute_pnl as the entrypoint of a web application"
   ]
  },
  {
   "cell_type": "markdown",
   "metadata": {},
   "source": [
    "import requests as rq"
   ]
  },
  {
   "cell_type": "markdown",
   "metadata": {},
   "source": [
    "class Api:\n",
    "    def compute_pnl(strategy_id: str, tradetable) -> float:\n",
    "        if strategy_id in tradetable.strategy.unique():\n",
    "            this_strategy_trades_sell = tradetable[(tradetable.strategy == strategy_id) & (tradetable.side == 'sell')]\n",
    "            this_strategy_trades_buy = tradetable[(tradetable.strategy == strategy_id) & (tradetable.side == 'buy')]\n",
    "            sales = this_strategy_trades_sell.quantity * this_strategy_trades_sell.price\n",
    "            sales_value = sales.sum()\n",
    "            buys = this_strategy_trades_buy.quantity * this_strategy_trades_buy.price\n",
    "            buys_value = buys.sum()\n",
    "            income = sales_value - buys_value\n",
    "        else:\n",
    "            income = 0\n",
    "        return income"
   ]
  },
  {
   "cell_type": "markdown",
   "metadata": {},
   "source": [
    "from flask import Flask, request, jsonify\n",
    "\n",
    "app = Flask(__name__)\n",
    "\n",
    "@app.route(\"/pnl/<strategy_id>\")\n",
    "def compute_pnl(strategy_id: str, tradetable) -> float:\n",
    "        if strategy_id in tradetable.strategy.unique():\n",
    "            this_strategy_trades_sell = tradetable[(tradetable.strategy == strategy_id) & (tradetable.side == 'sell')]\n",
    "            this_strategy_trades_buy = tradetable[(tradetable.strategy == strategy_id) & (tradetable.side == 'buy')]\n",
    "            sales = this_strategy_trades_sell.quantity * this_strategy_trades_sell.price\n",
    "            sales_value = sales.sum()\n",
    "            buys = this_strategy_trades_buy.quantity * this_strategy_trades_buy.price\n",
    "            buys_value = buys.sum()\n",
    "            income = sales_value - buys_value\n",
    "        else:\n",
    "            income = 0\n",
    "        return jsonify(income),200"
   ]
  },
  {
   "cell_type": "markdown",
   "metadata": {},
   "source": [
    "can't figure out how to do this yet; move on and check back in later"
   ]
  },
  {
   "cell_type": "markdown",
   "metadata": {},
   "source": [
    "## Task 2"
   ]
  },
  {
   "cell_type": "markdown",
   "metadata": {},
   "source": [
    "### Set up and data imports"
   ]
  },
  {
   "cell_type": "code",
   "execution_count": 80,
   "metadata": {},
   "outputs": [],
   "source": [
    "import openpyxl"
   ]
  },
  {
   "cell_type": "code",
   "execution_count": 81,
   "metadata": {},
   "outputs": [],
   "source": [
    "task2df = pd.read_excel('analysis_task_data.xlsx',sheet_name='DE_Wind_PV_Prices')"
   ]
  },
  {
   "cell_type": "code",
   "execution_count": null,
   "metadata": {},
   "outputs": [
    {
     "name": "stdout",
     "output_type": "stream",
     "text": [
      "350400 (35040, 10)\n"
     ]
    }
   ],
   "source": [
    "print(task2df.size,task2df.shape)"
   ]
  },
  {
   "cell_type": "code",
   "execution_count": 92,
   "metadata": {},
   "outputs": [
    {
     "data": {
      "text/plain": [
       "1.0"
      ]
     },
     "execution_count": 92,
     "metadata": {},
     "output_type": "execute_result"
    }
   ],
   "source": [
    "task2df.shape[0]/365/24/4"
   ]
  },
  {
   "cell_type": "code",
   "execution_count": 93,
   "metadata": {},
   "outputs": [
    {
     "data": {
      "text/plain": [
       "Index(['hour', 'time', 'Wind Day Ahead Forecast [in MW]',\n",
       "       'Wind Intraday Forecast [in MW]', 'PV Day Ahead Forecast [in MW]',\n",
       "       'PV Intraday Forecast [in MW]', 'Day Ahead Price hourly [in EUR/MWh]',\n",
       "       'Intraday Price Price Quarter Hourly  [in EUR/MWh]',\n",
       "       'Intraday Price Hourly  [in EUR/MWh]',\n",
       "       'Imbalance Price Quarter Hourly  [in EUR/MWh]'],\n",
       "      dtype='object')"
      ]
     },
     "execution_count": 93,
     "metadata": {},
     "output_type": "execute_result"
    }
   ],
   "source": [
    "task2df.columns"
   ]
  },
  {
   "cell_type": "markdown",
   "metadata": {},
   "source": [
    "### Task 2.1\n",
    "How much Wind/PV Power was forecasted to produced in German in 2021 [in MWh] on Day Ahead (da) and on Intraday (id). Hint: Be careful: you have values in MW on a quarter hourly basis, think how this translates into hourly values."
   ]
  },
  {
   "cell_type": "code",
   "execution_count": 95,
   "metadata": {},
   "outputs": [
    {
     "name": "stdout",
     "output_type": "stream",
     "text": [
      "115395406.25\n"
     ]
    }
   ],
   "source": [
    "da_wind_forecast_total_mwh = task2df['Wind Day Ahead Forecast [in MW]'].sum()/4\n",
    "print(da_wind_forecast_total_mwh)"
   ]
  },
  {
   "cell_type": "code",
   "execution_count": 96,
   "metadata": {},
   "outputs": [
    {
     "name": "stdout",
     "output_type": "stream",
     "text": [
      "46094572.75\n"
     ]
    }
   ],
   "source": [
    "da_pv_forecast_total_mwh = task2df['PV Day Ahead Forecast [in MW]'].sum()/4\n",
    "print(da_pv_forecast_total_mwh)"
   ]
  },
  {
   "cell_type": "code",
   "execution_count": 98,
   "metadata": {},
   "outputs": [
    {
     "name": "stdout",
     "output_type": "stream",
     "text": [
      "113478034.5\n"
     ]
    }
   ],
   "source": [
    "id_wind_forecast_total_mwh = task2df['Wind Intraday Forecast [in MW]'].sum()/4\n",
    "print(id_wind_forecast_total_mwh)"
   ]
  },
  {
   "cell_type": "code",
   "execution_count": 100,
   "metadata": {},
   "outputs": [
    {
     "name": "stdout",
     "output_type": "stream",
     "text": [
      "46689891.5\n"
     ]
    }
   ],
   "source": [
    "id_pv_forecast_total_mwh = task2df['PV Intraday Forecast [in MW]'].sum()/4\n",
    "print(id_pv_forecast_total_mwh)"
   ]
  },
  {
   "cell_type": "code",
   "execution_count": null,
   "metadata": {},
   "outputs": [],
   "source": []
  }
 ],
 "metadata": {
  "kernelspec": {
   "display_name": ".venv",
   "language": "python",
   "name": "python3"
  },
  "language_info": {
   "codemirror_mode": {
    "name": "ipython",
    "version": 3
   },
   "file_extension": ".py",
   "mimetype": "text/x-python",
   "name": "python",
   "nbconvert_exporter": "python",
   "pygments_lexer": "ipython3",
   "version": "3.9.6"
  }
 },
 "nbformat": 4,
 "nbformat_minor": 2
}
