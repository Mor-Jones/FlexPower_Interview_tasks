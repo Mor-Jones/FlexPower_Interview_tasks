{
 "cells": [
  {
   "cell_type": "markdown",
   "metadata": {},
   "source": [
    "setup: open trades database and table epex_12_20_12_13"
   ]
  },
  {
   "cell_type": "code",
   "execution_count": 4,
   "metadata": {},
   "outputs": [],
   "source": [
    "import sqlite3"
   ]
  },
  {
   "cell_type": "code",
   "execution_count": 5,
   "metadata": {},
   "outputs": [],
   "source": [
    "import pandas as pd"
   ]
  },
  {
   "cell_type": "code",
   "execution_count": 15,
   "metadata": {},
   "outputs": [
    {
     "name": "stdout",
     "output_type": "stream",
     "text": [
      "        id  quantity  price  side    strategy\n",
      "0  trade_1         5   20.0   buy  strategy_1\n",
      "1  trade_2        17   10.0  sell  strategy_1\n",
      "2  trade_3        15    8.0   buy  strategy_1\n",
      "3  trade_4        13   35.0  sell  strategy_2\n",
      "4  trade_5        23   11.0  sell  strategy_2\n",
      "30 (6, 5)\n"
     ]
    }
   ],
   "source": [
    "con = sqlite3.connect(\"trades.sqlite\")\n",
    "trades = pd.read_sql_query(\"SELECT * from epex_12_20_12_13\", con)\n",
    "print(trades.head())\n",
    "con.close()\n",
    "print(trades.size, trades.shape)"
   ]
  },
  {
   "cell_type": "code",
   "execution_count": null,
   "metadata": {},
   "outputs": [],
   "source": []
  }
 ],
 "metadata": {
  "kernelspec": {
   "display_name": ".venv",
   "language": "python",
   "name": "python3"
  },
  "language_info": {
   "codemirror_mode": {
    "name": "ipython",
    "version": 3
   },
   "file_extension": ".py",
   "mimetype": "text/x-python",
   "name": "python",
   "nbconvert_exporter": "python",
   "pygments_lexer": "ipython3",
   "version": "3.9.6"
  }
 },
 "nbformat": 4,
 "nbformat_minor": 2
}
