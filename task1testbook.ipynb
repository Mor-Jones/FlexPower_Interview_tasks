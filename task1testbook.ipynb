{
 "cells": [
  {
   "cell_type": "markdown",
   "metadata": {},
   "source": [
    "setup: open trades database and table epex_12_20_12_13"
   ]
  },
  {
   "cell_type": "markdown",
   "metadata": {},
   "source": [
    "# FlexPower Interview tasks -- Testbook"
   ]
  },
  {
   "cell_type": "markdown",
   "metadata": {},
   "source": [
    "## Task 1 Minimal reporting tool"
   ]
  },
  {
   "cell_type": "markdown",
   "metadata": {},
   "source": [
    "### set up and data import"
   ]
  },
  {
   "cell_type": "code",
   "execution_count": 68,
   "metadata": {},
   "outputs": [],
   "source": [
    "#PYTHON 3.9.6"
   ]
  },
  {
   "cell_type": "code",
   "execution_count": 16,
   "metadata": {},
   "outputs": [],
   "source": [
    "import sqlite3\n",
    "import pandas as pd"
   ]
  },
  {
   "cell_type": "code",
   "execution_count": null,
   "metadata": {},
   "outputs": [
    {
     "name": "stdout",
     "output_type": "stream",
     "text": [
      "        id  quantity  price  side    strategy\n",
      "0  trade_1         5   20.0   buy  strategy_1\n",
      "1  trade_2        17   10.0  sell  strategy_1\n",
      "2  trade_3        15    8.0   buy  strategy_1\n",
      "3  trade_4        13   35.0  sell  strategy_2\n",
      "4  trade_5        23   11.0  sell  strategy_2\n",
      "30 (6, 5)\n"
     ]
    }
   ],
   "source": [
    "con = sqlite3.connect(\"trades.sqlite\")\n",
    "trades = pd.read_sql_query(\"SELECT * from epex_12_20_12_13\", con)\n",
    "#TODO: check this is reading all of them in\n",
    "print(trades.head())\n",
    "con.close()\n",
    "print(trades.size, trades.shape)"
   ]
  },
  {
   "cell_type": "code",
   "execution_count": 33,
   "metadata": {},
   "outputs": [
    {
     "name": "stdout",
     "output_type": "stream",
     "text": [
      "        id  quantity  price  side    strategy\n",
      "0  trade_1         5   20.0   buy  strategy_1\n",
      "1  trade_2        17   10.0  sell  strategy_1\n",
      "2  trade_3        15    8.0   buy  strategy_1\n",
      "3  trade_4        13   35.0  sell  strategy_2\n",
      "4  trade_5        23   11.0  sell  strategy_2\n",
      "5  trade_6         8   20.0   buy  strategy_2\n"
     ]
    }
   ],
   "source": [
    "print(trades)"
   ]
  },
  {
   "cell_type": "code",
   "execution_count": 57,
   "metadata": {},
   "outputs": [],
   "source": [
    "#TODO: quick data cleaner making sure evth is in the right type"
   ]
  },
  {
   "cell_type": "markdown",
   "metadata": {},
   "source": [
    "### Task 1.1\n",
    "Write a function that computes the total buy volume for flex power, another that computes the total sell volume."
   ]
  },
  {
   "cell_type": "code",
   "execution_count": 22,
   "metadata": {},
   "outputs": [],
   "source": [
    "\n",
    "def compute_total_buy_volume(tradetable) -> float:\n",
    "    total_buy = tradetable[tradetable.side == 'buy'].quantity.sum()\n",
    "    return total_buy\n",
    "\n",
    "def compute_total_sell_volume(tradetable) -> float:\n",
    "    total_sell = tradetable[tradetable.side == 'sell'].quantity.sum()\n",
    "    return total_sell"
   ]
  },
  {
   "cell_type": "code",
   "execution_count": 23,
   "metadata": {},
   "outputs": [
    {
     "data": {
      "text/plain": [
       "np.int64(53)"
      ]
     },
     "execution_count": 23,
     "metadata": {},
     "output_type": "execute_result"
    }
   ],
   "source": [
    "compute_total_buy_volume(trades)\n",
    "compute_total_sell_volume(trades)"
   ]
  },
  {
   "cell_type": "code",
   "execution_count": null,
   "metadata": {},
   "outputs": [],
   "source": [
    "#TODO: change to dataframe.filter for efficiency (in case tested on a bigger database)"
   ]
  },
  {
   "cell_type": "markdown",
   "metadata": {},
   "source": [
    "### Task 1.2\n",
    "PnL calculation for each strategy; defn sum of incomes, with selling +ve and buying -ve"
   ]
  },
  {
   "cell_type": "code",
   "execution_count": 24,
   "metadata": {},
   "outputs": [
    {
     "name": "stdout",
     "output_type": "stream",
     "text": [
      "['strategy_1' 'strategy_2']\n"
     ]
    }
   ],
   "source": [
    "print(trades.strategy.unique())"
   ]
  },
  {
   "cell_type": "code",
   "execution_count": 65,
   "metadata": {},
   "outputs": [],
   "source": [
    "def compute_pnl(strategy_id: str, tradetable) -> float:\n",
    "    if strategy_id in tradetable.strategy.unique():\n",
    "        this_strategy_trades_sell = tradetable[(tradetable.strategy == strategy_id) & (tradetable.side == 'sell')]\n",
    "        this_strategy_trades_buy = tradetable[(tradetable.strategy == strategy_id) & (tradetable.side == 'buy')]\n",
    "        sales = this_strategy_trades_sell.quantity * this_strategy_trades_sell.price\n",
    "        sales_value = sales.sum()\n",
    "        buys = this_strategy_trades_buy.quantity * this_strategy_trades_buy.price\n",
    "        buys_value = buys.sum()\n",
    "        income = sales_value - buys_value\n",
    "    else:\n",
    "        income = 0\n",
    "    return income\n",
    "#make this smarter anad use the buy sell volume funcs from above?\n",
    "#use .dot explicityly rather than *? check know behaviour of this?\n",
    "#change to not do memory allocation (change to a lambda function? rather than data slicing?"
   ]
  },
  {
   "cell_type": "code",
   "execution_count": 67,
   "metadata": {},
   "outputs": [
    {
     "data": {
      "text/plain": [
       "np.float64(548.0)"
      ]
     },
     "execution_count": 67,
     "metadata": {},
     "output_type": "execute_result"
    }
   ],
   "source": [
    "compute_pnl('strategy_2',trades)"
   ]
  },
  {
   "cell_type": "markdown",
   "metadata": {},
   "source": [
    "### Task 1.3\n",
    "expose compute_pnl as the entrypoint of a web application"
   ]
  },
  {
   "cell_type": "markdown",
   "metadata": {},
   "source": [
    "import requests as rq"
   ]
  },
  {
   "cell_type": "markdown",
   "metadata": {},
   "source": [
    "class Api:\n",
    "    def compute_pnl(strategy_id: str, tradetable) -> float:\n",
    "        if strategy_id in tradetable.strategy.unique():\n",
    "            this_strategy_trades_sell = tradetable[(tradetable.strategy == strategy_id) & (tradetable.side == 'sell')]\n",
    "            this_strategy_trades_buy = tradetable[(tradetable.strategy == strategy_id) & (tradetable.side == 'buy')]\n",
    "            sales = this_strategy_trades_sell.quantity * this_strategy_trades_sell.price\n",
    "            sales_value = sales.sum()\n",
    "            buys = this_strategy_trades_buy.quantity * this_strategy_trades_buy.price\n",
    "            buys_value = buys.sum()\n",
    "            income = sales_value - buys_value\n",
    "        else:\n",
    "            income = 0\n",
    "        return income"
   ]
  },
  {
   "cell_type": "markdown",
   "metadata": {},
   "source": [
    "from flask import Flask, request, jsonify\n",
    "\n",
    "app = Flask(__name__)\n",
    "\n",
    "@app.route(\"/pnl/<strategy_id>\")\n",
    "def compute_pnl(strategy_id: str, tradetable) -> float:\n",
    "        if strategy_id in tradetable.strategy.unique():\n",
    "            this_strategy_trades_sell = tradetable[(tradetable.strategy == strategy_id) & (tradetable.side == 'sell')]\n",
    "            this_strategy_trades_buy = tradetable[(tradetable.strategy == strategy_id) & (tradetable.side == 'buy')]\n",
    "            sales = this_strategy_trades_sell.quantity * this_strategy_trades_sell.price\n",
    "            sales_value = sales.sum()\n",
    "            buys = this_strategy_trades_buy.quantity * this_strategy_trades_buy.price\n",
    "            buys_value = buys.sum()\n",
    "            income = sales_value - buys_value\n",
    "        else:\n",
    "            income = 0\n",
    "        return jsonify(income),200"
   ]
  },
  {
   "cell_type": "markdown",
   "metadata": {},
   "source": [
    "can't figure out how to do this yet; move on and check back in later"
   ]
  },
  {
   "cell_type": "markdown",
   "metadata": {},
   "source": [
    "## Task 2"
   ]
  },
  {
   "cell_type": "markdown",
   "metadata": {},
   "source": [
    "### Set up and data imports"
   ]
  },
  {
   "cell_type": "code",
   "execution_count": null,
   "metadata": {},
   "outputs": [
    {
     "ename": "ModuleNotFoundError",
     "evalue": "No module named 'matplotlib'",
     "output_type": "error",
     "traceback": [
      "\u001b[0;31m---------------------------------------------------------------------------\u001b[0m",
      "\u001b[0;31mModuleNotFoundError\u001b[0m                       Traceback (most recent call last)",
      "Cell \u001b[0;32mIn[101], line 2\u001b[0m\n\u001b[1;32m      1\u001b[0m \u001b[38;5;28;01mimport\u001b[39;00m\u001b[38;5;250m \u001b[39m\u001b[38;5;21;01mopenpyxl\u001b[39;00m\n\u001b[0;32m----> 2\u001b[0m \u001b[38;5;28;01mimport\u001b[39;00m\u001b[38;5;250m \u001b[39m\u001b[38;5;21;01mmatplotlib\u001b[39;00m\n",
      "\u001b[0;31mModuleNotFoundError\u001b[0m: No module named 'matplotlib'"
     ]
    }
   ],
   "source": [
    "import openpyxl"
   ]
  },
  {
   "cell_type": "code",
   "execution_count": 81,
   "metadata": {},
   "outputs": [],
   "source": [
    "task2df = pd.read_excel('analysis_task_data.xlsx',sheet_name='DE_Wind_PV_Prices')"
   ]
  },
  {
   "cell_type": "code",
   "execution_count": null,
   "metadata": {},
   "outputs": [
    {
     "name": "stdout",
     "output_type": "stream",
     "text": [
      "350400 (35040, 10)\n"
     ]
    }
   ],
   "source": [
    "print(task2df.size,task2df.shape)"
   ]
  },
  {
   "cell_type": "code",
   "execution_count": 92,
   "metadata": {},
   "outputs": [
    {
     "data": {
      "text/plain": [
       "1.0"
      ]
     },
     "execution_count": 92,
     "metadata": {},
     "output_type": "execute_result"
    }
   ],
   "source": [
    "task2df.shape[0]/365/24/4"
   ]
  },
  {
   "cell_type": "code",
   "execution_count": 93,
   "metadata": {},
   "outputs": [
    {
     "data": {
      "text/plain": [
       "Index(['hour', 'time', 'Wind Day Ahead Forecast [in MW]',\n",
       "       'Wind Intraday Forecast [in MW]', 'PV Day Ahead Forecast [in MW]',\n",
       "       'PV Intraday Forecast [in MW]', 'Day Ahead Price hourly [in EUR/MWh]',\n",
       "       'Intraday Price Price Quarter Hourly  [in EUR/MWh]',\n",
       "       'Intraday Price Hourly  [in EUR/MWh]',\n",
       "       'Imbalance Price Quarter Hourly  [in EUR/MWh]'],\n",
       "      dtype='object')"
      ]
     },
     "execution_count": 93,
     "metadata": {},
     "output_type": "execute_result"
    }
   ],
   "source": [
    "task2df.columns"
   ]
  },
  {
   "cell_type": "markdown",
   "metadata": {},
   "source": [
    "### Task 2.1\n",
    "How much Wind/PV Power was forecasted to produced in German in 2021 [in MWh] on Day Ahead (da) and on Intraday (id). Hint: Be careful: you have values in MW on a quarter hourly basis, think how this translates into hourly values."
   ]
  },
  {
   "cell_type": "code",
   "execution_count": 95,
   "metadata": {},
   "outputs": [
    {
     "name": "stdout",
     "output_type": "stream",
     "text": [
      "115395406.25\n"
     ]
    }
   ],
   "source": [
    "da_wind_forecast_total_mwh = task2df['Wind Day Ahead Forecast [in MW]'].sum()/4\n",
    "print(da_wind_forecast_total_mwh)"
   ]
  },
  {
   "cell_type": "code",
   "execution_count": 96,
   "metadata": {},
   "outputs": [
    {
     "name": "stdout",
     "output_type": "stream",
     "text": [
      "46094572.75\n"
     ]
    }
   ],
   "source": [
    "da_pv_forecast_total_mwh = task2df['PV Day Ahead Forecast [in MW]'].sum()/4\n",
    "print(da_pv_forecast_total_mwh)"
   ]
  },
  {
   "cell_type": "code",
   "execution_count": 98,
   "metadata": {},
   "outputs": [
    {
     "name": "stdout",
     "output_type": "stream",
     "text": [
      "113478034.5\n"
     ]
    }
   ],
   "source": [
    "id_wind_forecast_total_mwh = task2df['Wind Intraday Forecast [in MW]'].sum()/4\n",
    "print(id_wind_forecast_total_mwh)"
   ]
  },
  {
   "cell_type": "code",
   "execution_count": 100,
   "metadata": {},
   "outputs": [
    {
     "name": "stdout",
     "output_type": "stream",
     "text": [
      "46689891.5\n"
     ]
    }
   ],
   "source": [
    "id_pv_forecast_total_mwh = task2df['PV Intraday Forecast [in MW]'].sum()/4\n",
    "print(id_pv_forecast_total_mwh)"
   ]
  },
  {
   "cell_type": "code",
   "execution_count": 103,
   "metadata": {},
   "outputs": [
    {
     "name": "stderr",
     "output_type": "stream",
     "text": [
      "Matplotlib is building the font cache; this may take a moment.\n"
     ]
    }
   ],
   "source": [
    "#2 graphs of forecast production for wind and solar da and id\n",
    "import matplotlib.pyplot as plt"
   ]
  },
  {
   "cell_type": "markdown",
   "metadata": {},
   "source": [
    "figure, axis = plt.subplots(1, 2)\n",
    "\n",
    "axis[0, 0].plot(X, )\n",
    "axis[0, 0].plot(X, )\n",
    "axis[0, 0].set_title(\"Solar production forecasts (Cumulative, MWh)\")\n",
    "\n",
    "axis[0, 1].plot(X, )\n",
    "axis[0, 1].set_title(\"Wind production forecasts (Cumulative, MWh)\")"
   ]
  },
  {
   "cell_type": "markdown",
   "metadata": {},
   "source": [
    "### Task 2.2\n",
    "Show the average Wind/Solar production for 2021 over a 24h period for Intraday and Day Ahead (4 lines in one graph)."
   ]
  },
  {
   "cell_type": "code",
   "execution_count": 113,
   "metadata": {},
   "outputs": [],
   "source": [
    "import numpy as np"
   ]
  },
  {
   "cell_type": "code",
   "execution_count": 123,
   "metadata": {},
   "outputs": [],
   "source": [
    "#find the average wind production in a 24h period on da\n",
    "#have the hour of the day; group by hour, take the average for that hour, remember /4\n",
    "da_wind_24h_av_production = task2df.groupby(by='hour').agg({'Wind Day Ahead Forecast [in MW]':'mean'}).reindex()\n",
    "da_wind_24h_av_production = da_wind_24h_av_production['Wind Day Ahead Forecast [in MW]'] / 4\n",
    "#print(da_wind_24h_av_production)"
   ]
  },
  {
   "cell_type": "code",
   "execution_count": null,
   "metadata": {},
   "outputs": [
    {
     "name": "stdout",
     "output_type": "stream",
     "text": [
      "77724.68116438357\n"
     ]
    }
   ],
   "source": [
    "#find the average wiind production in a 24h period on id\n",
    "id_wind_24h_av_production = task2df.groupby(by='hour').agg({'Wind Intraday Forecast [in MW]':'mean'}).reindex()\n",
    "id_wind_24h_av_production = id_wind_24h_av_production['Wind Intraday Forecast [in MW]'] / 4"
   ]
  },
  {
   "cell_type": "code",
   "execution_count": null,
   "metadata": {},
   "outputs": [],
   "source": [
    "#find the 24h average solar production in a 24 h period on da\n",
    "da_solar_24h_av_production = task2df.groupby(by='hour').agg({'PV Day Ahead Forecast [in MW]':'mean'}).reindex()"
   ]
  },
  {
   "cell_type": "code",
   "execution_count": 107,
   "metadata": {},
   "outputs": [],
   "source": [
    "#find the average solar production in a 24h period on id"
   ]
  },
  {
   "cell_type": "code",
   "execution_count": 136,
   "metadata": {},
   "outputs": [],
   "source": [
    "#create a new dataframe grouped by hour with the mean of each hour\n",
    "av_24h = task2df.groupby(by='hour').agg({'Wind Day Ahead Forecast [in MW]':'mean',\n",
    "                                         'Wind Intraday Forecast [in MW]':'mean',\n",
    "                                         'PV Day Ahead Forecast [in MW]':'mean',\n",
    "                                         'PV Intraday Forecast [in MW]':'mean'}).reindex()\n",
    "#print(av_24h.index)\n",
    "#print(av_24h.head(2))\n",
    "av_24h = av_24h/4\n",
    "#print(av_24h.head(2))"
   ]
  },
  {
   "cell_type": "code",
   "execution_count": null,
   "metadata": {},
   "outputs": [],
   "source": [
    "#plot all 4 on the same graph\n"
   ]
  }
 ],
 "metadata": {
  "kernelspec": {
   "display_name": ".venv",
   "language": "python",
   "name": "python3"
  },
  "language_info": {
   "codemirror_mode": {
    "name": "ipython",
    "version": 3
   },
   "file_extension": ".py",
   "mimetype": "text/x-python",
   "name": "python",
   "nbconvert_exporter": "python",
   "pygments_lexer": "ipython3",
   "version": "3.9.6"
  }
 },
 "nbformat": 4,
 "nbformat_minor": 2
}
